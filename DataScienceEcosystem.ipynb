{
 "cells": [
  {
   "cell_type": "markdown",
   "id": "47b85e4c-dbaa-4a51-85ae-6bd1ef0436e0",
   "metadata": {},
   "source": [
    "Data Science Tools And Ecosystem"
   ]
  },
  {
   "cell_type": "markdown",
   "id": "3f36b432-3af1-4d83-bdc0-2699662c0632",
   "metadata": {},
   "source": [
    "Introduction\n",
    "\n",
    "In this notebook, Data Science Tools And Ecosystem are summarised\n",
    "\n",
    "Data Science Tools\n",
    "\n",
    "* SAS\n",
    "* Apache Spark\n",
    "* BigML\n",
    "* D3.js\n",
    "* MATLAB\n",
    "* Excel\n",
    "* ggplot2\n",
    "* Tableau\n",
    "* Jupyter\n",
    "* Matplotlib\n",
    "* NLTK\n",
    "* Scikit-learn\n",
    "* TensorFlow\n",
    "* Weka\n",
    "\n",
    "Data Ecosystem\n",
    "\n",
    "* Collectively refers to all the programming languages, algorithms, applications, and the general infrastructure used to collect, analyse and store data."
   ]
  },
  {
   "cell_type": "markdown",
   "id": "3594fa10-268d-4703-8129-5a706e1b307c",
   "metadata": {},
   "source": [
    "DATA SCIENCE LANGUAGES"
   ]
  },
  {
   "cell_type": "markdown",
   "id": "77c04daa-d513-456b-84a1-099318c668e6",
   "metadata": {},
   "source": [
    "Popular Languages That Data Scientists Use\n",
    "\n",
    "* Python\n",
    "* R\n",
    "* SQL\n",
    "* Java\n",
    "* Scala\n",
    "* C/C++\n",
    "* Javascript\n",
    "* Swift\n",
    "* Go\n",
    "* MATLAB\n",
    "* SAS"
   ]
  },
  {
   "cell_type": "markdown",
   "id": "4bb2f1da-267c-4140-b26d-e5bb4a40b6d7",
   "metadata": {},
   "source": [
    "Commonly Used Languages For Data Science\n",
    "\n",
    "* R\n",
    "* Python\n",
    "* Java"
   ]
  },
  {
   "cell_type": "markdown",
   "id": "3dedf1e1-9283-425f-a408-7251b0cc68ca",
   "metadata": {},
   "source": [
    "LIST OF DATA SCIENCE LIBRARIES"
   ]
  },
  {
   "cell_type": "markdown",
   "id": "719e3703-2336-4654-b05d-829d10f2dc22",
   "metadata": {},
   "source": [
    "COMMONLY USED LIBRARIES BY DATA SCIENTISTS\n",
    "\n",
    "* Pandas\n",
    "* NumPy\n",
    "* SciPy\n",
    "* Matplotlib\n",
    "* Seaborn\n",
    "* Scikit Learn\n",
    "* TensorFlow\n",
    "* Keras\n",
    "* Statsmodels\n",
    "\n",
    "LIST OF MOST COMMONLY USED LIBRARIES\n",
    "\n",
    "* Ananconda\n",
    "* Panda\n",
    "* Matplotlib\n",
    "* Seaborn\n",
    "* Scikit-learn"
   ]
  },
  {
   "cell_type": "markdown",
   "id": "53e1f3ca-73df-4824-b432-a2120674cdc3",
   "metadata": {},
   "source": [
    "| Data Science Tools |\n",
    "|--------------------|\n",
    "| TensorFlow |\n",
    "| Pandas |\n",
    "| Jupyter Notebook |"
   ]
  },
  {
   "cell_type": "markdown",
   "id": "c7df0a8f-ca84-4340-ac92-31d55428d79b",
   "metadata": {},
   "source": [
    "Examples Of Evaluating Arithmetic Expressions In Python\n",
    "\n",
    "6*(8-3)\n",
    "9-(2*2)\n",
    "4*(3+1)"
   ]
  },
  {
   "cell_type": "code",
   "execution_count": 1,
   "id": "938bca39-565f-4775-a58b-30b1d415707b",
   "metadata": {},
   "outputs": [
    {
     "data": {
      "text/plain": [
       "17"
      ]
     },
     "execution_count": 1,
     "metadata": {},
     "output_type": "execute_result"
    }
   ],
   "source": [
    "//Code Cell To Multiply And Add Numbers//\n",
    "\n",
    "(3*4)+5"
   ]
  },
  {
   "cell_type": "code",
   "execution_count": 2,
   "id": "0c4bc17d-a5a9-4219-a8b3-a806a990f602",
   "metadata": {},
   "outputs": [
    {
     "data": {
      "text/plain": [
       "3.3333333333333335"
      ]
     },
     "execution_count": 2,
     "metadata": {},
     "output_type": "execute_result"
    }
   ],
   "source": [
    "//Code Cell To Convert Minutes To Hours//\n",
    "\n",
    "(200*1)/60"
   ]
  },
  {
   "cell_type": "markdown",
   "id": "ce6695e3-e363-4489-a6af-448ae8907b50",
   "metadata": {},
   "source": [
    "OBJECTIVES\n",
    "\n",
    "* Created a Jupyter Notebook\n",
    "* Inserted code and markdown cells\n",
    "* Listed popular languages, libraries and tools in data science\n",
    "* Listed author names\n",
    "* Will share notebook through GITHUB"
   ]
  },
  {
   "cell_type": "markdown",
   "id": "1bc145f6-5a91-47b9-bc80-aecffdb0d6e9",
   "metadata": {},
   "source": [
    "AUTHORS\n",
    "\n",
    "* Lakshmi Holla\n",
    "* Niveditha Pandith\n"
   ]
  },
  {
   "cell_type": "code",
   "execution_count": null,
   "id": "9d83a792-f7ff-4d37-8a67-59b19a755e40",
   "metadata": {
    "tags": []
   },
   "outputs": [],
   "source": []
  }
 ],
 "metadata": {
  "kernelspec": {
   "display_name": "Python",
   "language": "python",
   "name": "conda-env-python-py"
  },
  "language_info": {
   "codemirror_mode": {
    "name": "ipython",
    "version": 3
   },
   "file_extension": ".py",
   "mimetype": "text/x-python",
   "name": "python",
   "nbconvert_exporter": "python",
   "pygments_lexer": "ipython3",
   "version": "3.7.12"
  }
 },
 "nbformat": 4,
 "nbformat_minor": 5
}
